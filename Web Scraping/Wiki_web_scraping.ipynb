{
 "cells": [
  {
   "cell_type": "code",
   "execution_count": 15,
   "metadata": {},
   "outputs": [
    {
     "name": "stdout",
     "output_type": "stream",
     "text": [
      "Skipping row with mismatched columns: 0 columns found, expected at least 6\n",
      "   Rank                             Name     Industry   Revenue    Profit  \\\n",
      "0     1                          Walmart       Retail  $648,125   $15,511   \n",
      "1     2                           Amazon       Retail  $574,785   $30,425   \n",
      "2     3  State Grid Corporation of China  Electricity  $545,948    $9,204   \n",
      "3     4                     Saudi Aramco  Oil and gas  $494,890  $129,699   \n",
      "4     5  China Petrochemical Corporation  Oil and gas  $429,700    $9,393   \n",
      "\n",
      "   Employees   Headquarters  \n",
      "0  2,100,000  United States  \n",
      "1  1,525,000  United States  \n",
      "2  1,361,423          China  \n",
      "3     73,311   Saudi Arabia  \n",
      "4    513,434          China  \n"
     ]
    }
   ],
   "source": [
    "from bs4 import BeautifulSoup\n",
    "import requests\n",
    "import pandas as pd\n",
    "\n",
    "# Fetch the page\n",
    "url = 'https://en.wikipedia.org/wiki/List_of_largest_companies_by_revenue'\n",
    "page = requests.get(url)\n",
    "soup = BeautifulSoup(page.text, 'html.parser')\n",
    "\n",
    "# Extract the table of interest\n",
    "table = soup.find('table', {'class': 'wikitable'})\n",
    "\n",
    "# Extract table headers (skipping the unnecessary headers and references)\n",
    "headers = table.find_all('th')\n",
    "header_list = ['Rank'] + [header.text.strip().replace(\"[note 1]\", \"\").replace(\"\\n\", \"\") for header in headers[1:7]]  # Limit to 6 relevant columns\n",
    "\n",
    "# Initialize DataFrame with the correct number of headers\n",
    "companies = pd.DataFrame(columns=header_list)\n",
    "\n",
    "# Extract the rows and manually add the \"Rank\" column\n",
    "rows = table.find_all('tr')[1:]  # Skip the header row\n",
    "rank = 1\n",
    "for row in rows:\n",
    "    columns = row.find_all('td')\n",
    "    if len(columns) >= 6:  # Ensure there are at least 6 columns of data\n",
    "        row_data = [col.text.strip() for col in columns[:6]]  # Extract only the first 6 columns\n",
    "        row_data.insert(0, rank)  # Insert the rank at the beginning of the row\n",
    "        companies.loc[len(companies)] = row_data\n",
    "        rank += 1\n",
    "    else:\n",
    "        print(f\"Skipping row with mismatched columns: {len(columns)} columns found, expected at least 6\")\n",
    "\n",
    "# Display the first few rows of the DataFrame\n",
    "print(companies.head())\n",
    "\n",
    "# Optional: Save the DataFrame to a CSV file\n",
    "companies.to_csv('largest_companies_by_revenue.csv', index=False)\n"
   ]
  },
  {
   "cell_type": "code",
   "execution_count": 16,
   "metadata": {},
   "outputs": [
    {
     "data": {
      "text/html": [
       "<div>\n",
       "<style scoped>\n",
       "    .dataframe tbody tr th:only-of-type {\n",
       "        vertical-align: middle;\n",
       "    }\n",
       "\n",
       "    .dataframe tbody tr th {\n",
       "        vertical-align: top;\n",
       "    }\n",
       "\n",
       "    .dataframe thead th {\n",
       "        text-align: right;\n",
       "    }\n",
       "</style>\n",
       "<table border=\"1\" class=\"dataframe\">\n",
       "  <thead>\n",
       "    <tr style=\"text-align: right;\">\n",
       "      <th></th>\n",
       "      <th>Rank</th>\n",
       "      <th>Name</th>\n",
       "      <th>Industry</th>\n",
       "      <th>Revenue</th>\n",
       "      <th>Profit</th>\n",
       "      <th>Employees</th>\n",
       "      <th>Headquarters</th>\n",
       "    </tr>\n",
       "  </thead>\n",
       "  <tbody>\n",
       "    <tr>\n",
       "      <th>0</th>\n",
       "      <td>1</td>\n",
       "      <td>Walmart</td>\n",
       "      <td>Retail</td>\n",
       "      <td>$648,125</td>\n",
       "      <td>$15,511</td>\n",
       "      <td>2,100,000</td>\n",
       "      <td>United States</td>\n",
       "    </tr>\n",
       "    <tr>\n",
       "      <th>1</th>\n",
       "      <td>2</td>\n",
       "      <td>Amazon</td>\n",
       "      <td>Retail</td>\n",
       "      <td>$574,785</td>\n",
       "      <td>$30,425</td>\n",
       "      <td>1,525,000</td>\n",
       "      <td>United States</td>\n",
       "    </tr>\n",
       "    <tr>\n",
       "      <th>2</th>\n",
       "      <td>3</td>\n",
       "      <td>State Grid Corporation of China</td>\n",
       "      <td>Electricity</td>\n",
       "      <td>$545,948</td>\n",
       "      <td>$9,204</td>\n",
       "      <td>1,361,423</td>\n",
       "      <td>China</td>\n",
       "    </tr>\n",
       "    <tr>\n",
       "      <th>3</th>\n",
       "      <td>4</td>\n",
       "      <td>Saudi Aramco</td>\n",
       "      <td>Oil and gas</td>\n",
       "      <td>$494,890</td>\n",
       "      <td>$129,699</td>\n",
       "      <td>73,311</td>\n",
       "      <td>Saudi Arabia</td>\n",
       "    </tr>\n",
       "    <tr>\n",
       "      <th>4</th>\n",
       "      <td>5</td>\n",
       "      <td>China Petrochemical Corporation</td>\n",
       "      <td>Oil and gas</td>\n",
       "      <td>$429,700</td>\n",
       "      <td>$9,393</td>\n",
       "      <td>513,434</td>\n",
       "      <td>China</td>\n",
       "    </tr>\n",
       "  </tbody>\n",
       "</table>\n",
       "</div>"
      ],
      "text/plain": [
       "   Rank                             Name     Industry   Revenue    Profit  \\\n",
       "0     1                          Walmart       Retail  $648,125   $15,511   \n",
       "1     2                           Amazon       Retail  $574,785   $30,425   \n",
       "2     3  State Grid Corporation of China  Electricity  $545,948    $9,204   \n",
       "3     4                     Saudi Aramco  Oil and gas  $494,890  $129,699   \n",
       "4     5  China Petrochemical Corporation  Oil and gas  $429,700    $9,393   \n",
       "\n",
       "   Employees   Headquarters  \n",
       "0  2,100,000  United States  \n",
       "1  1,525,000  United States  \n",
       "2  1,361,423          China  \n",
       "3     73,311   Saudi Arabia  \n",
       "4    513,434          China  "
      ]
     },
     "execution_count": 16,
     "metadata": {},
     "output_type": "execute_result"
    }
   ],
   "source": [
    "companies.head()"
   ]
  },
  {
   "cell_type": "code",
   "execution_count": 3,
   "metadata": {},
   "outputs": [
    {
     "name": "stdout",
     "output_type": "stream",
     "text": [
      "Defaulting to user installation because normal site-packages is not writeable\n",
      "Requirement already satisfied: ace_tools in c:\\users\\2020s\\appdata\\roaming\\python\\python311\\site-packages (0.0)\n"
     ]
    }
   ],
   "source": [
    "!pip install ace_tools"
   ]
  },
  {
   "cell_type": "code",
   "execution_count": null,
   "metadata": {},
   "outputs": [],
   "source": []
  }
 ],
 "metadata": {
  "kernelspec": {
   "display_name": "base",
   "language": "python",
   "name": "python3"
  },
  "language_info": {
   "codemirror_mode": {
    "name": "ipython",
    "version": 3
   },
   "file_extension": ".py",
   "mimetype": "text/x-python",
   "name": "python",
   "nbconvert_exporter": "python",
   "pygments_lexer": "ipython3",
   "version": "3.11.4"
  }
 },
 "nbformat": 4,
 "nbformat_minor": 2
}
